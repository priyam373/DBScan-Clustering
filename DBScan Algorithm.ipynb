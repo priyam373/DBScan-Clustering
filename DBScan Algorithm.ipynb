{
 "cells": [
  {
   "cell_type": "markdown",
   "id": "f9bf2d17",
   "metadata": {},
   "source": [
    "#### Implementing DBScan Algorithm:\n",
    "this algorithm helps you identify noise or outliers which is hard to do with\n",
    "the help of Kmeans or Hierarchical Means algorithm:\n",
    "Important Concept of DBSCAN:\n",
    "1) Epsilon Value:\n",
    "2) Min Point:\n",
    "3) Red Point:\n",
    "4) Yellow Point:\n",
    "5) Blue Point:"
   ]
  },
  {
   "cell_type": "code",
   "execution_count": 165,
   "id": "cfc9f4fe",
   "metadata": {},
   "outputs": [],
   "source": [
    "#loading all the required libraries\n",
    "import pandas as pd\n",
    "import numpy as np\n",
    "import matplotlib.pyplot as plt\n",
    "import seaborn as sns\n",
    "import warnings\n",
    "%matplotlib inline\n",
    "from sklearn.cluster import DBSCAN\n",
    "from pandas_profiling import ProfileReport\n",
    "warnings.filterwarnings('ignore')\n",
    "from sklearn import metrics"
   ]
  },
  {
   "cell_type": "markdown",
   "id": "97bffe23",
   "metadata": {},
   "source": [
    "#### loading the dataset from kaggle"
   ]
  },
  {
   "cell_type": "code",
   "execution_count": 166,
   "id": "fc9ae525",
   "metadata": {},
   "outputs": [],
   "source": [
    "df=pd.read_csv('https://raw.githubusercontent.com/tirthajyoti/Machine-Learning-with-Python/master/Datasets/Mall_Customers.csv')"
   ]
  },
  {
   "cell_type": "code",
   "execution_count": 167,
   "id": "4378a368",
   "metadata": {},
   "outputs": [
    {
     "data": {
      "text/html": [
       "<div>\n",
       "<style scoped>\n",
       "    .dataframe tbody tr th:only-of-type {\n",
       "        vertical-align: middle;\n",
       "    }\n",
       "\n",
       "    .dataframe tbody tr th {\n",
       "        vertical-align: top;\n",
       "    }\n",
       "\n",
       "    .dataframe thead th {\n",
       "        text-align: right;\n",
       "    }\n",
       "</style>\n",
       "<table border=\"1\" class=\"dataframe\">\n",
       "  <thead>\n",
       "    <tr style=\"text-align: right;\">\n",
       "      <th></th>\n",
       "      <th>CustomerID</th>\n",
       "      <th>Gender</th>\n",
       "      <th>Age</th>\n",
       "      <th>Annual Income (k$)</th>\n",
       "      <th>Spending Score (1-100)</th>\n",
       "    </tr>\n",
       "  </thead>\n",
       "  <tbody>\n",
       "    <tr>\n",
       "      <th>0</th>\n",
       "      <td>1</td>\n",
       "      <td>Male</td>\n",
       "      <td>19</td>\n",
       "      <td>15</td>\n",
       "      <td>39</td>\n",
       "    </tr>\n",
       "    <tr>\n",
       "      <th>1</th>\n",
       "      <td>2</td>\n",
       "      <td>Male</td>\n",
       "      <td>21</td>\n",
       "      <td>15</td>\n",
       "      <td>81</td>\n",
       "    </tr>\n",
       "    <tr>\n",
       "      <th>2</th>\n",
       "      <td>3</td>\n",
       "      <td>Female</td>\n",
       "      <td>20</td>\n",
       "      <td>16</td>\n",
       "      <td>6</td>\n",
       "    </tr>\n",
       "    <tr>\n",
       "      <th>3</th>\n",
       "      <td>4</td>\n",
       "      <td>Female</td>\n",
       "      <td>23</td>\n",
       "      <td>16</td>\n",
       "      <td>77</td>\n",
       "    </tr>\n",
       "    <tr>\n",
       "      <th>4</th>\n",
       "      <td>5</td>\n",
       "      <td>Female</td>\n",
       "      <td>31</td>\n",
       "      <td>17</td>\n",
       "      <td>40</td>\n",
       "    </tr>\n",
       "  </tbody>\n",
       "</table>\n",
       "</div>"
      ],
      "text/plain": [
       "   CustomerID  Gender  Age  Annual Income (k$)  Spending Score (1-100)\n",
       "0           1    Male   19                  15                      39\n",
       "1           2    Male   21                  15                      81\n",
       "2           3  Female   20                  16                       6\n",
       "3           4  Female   23                  16                      77\n",
       "4           5  Female   31                  17                      40"
      ]
     },
     "execution_count": 167,
     "metadata": {},
     "output_type": "execute_result"
    }
   ],
   "source": [
    "df.head()"
   ]
  },
  {
   "cell_type": "markdown",
   "id": "c93f8be3",
   "metadata": {},
   "source": [
    "#### Make the problem statement easier for understanding and visualization\n",
    "to make the visualisation simpler, we are going to select only 2 features out of 5 as the data can't be visualized on 5 dimensions\n",
    "Therefore, selected features are: Annual Income and Spending Score"
   ]
  },
  {
   "cell_type": "code",
   "execution_count": 168,
   "id": "95829be8",
   "metadata": {},
   "outputs": [
    {
     "data": {
      "text/plain": [
       "200"
      ]
     },
     "execution_count": 168,
     "metadata": {},
     "output_type": "execute_result"
    }
   ],
   "source": [
    "X=df.iloc[:,[3,4]].values\n",
    "len(X)"
   ]
  },
  {
   "cell_type": "code",
   "execution_count": 169,
   "id": "43c00eb7",
   "metadata": {},
   "outputs": [
    {
     "data": {
      "text/plain": [
       "<AxesSubplot:xlabel='x', ylabel='y'>"
      ]
     },
     "execution_count": 169,
     "metadata": {},
     "output_type": "execute_result"
    },
    {
     "data": {
      "image/png": "[encoded data removed]",
      "text/plain": [
       "<Figure size 800x800 with 1 Axes>"
      ]
     },
     "metadata": {},
     "output_type": "display_data"
    }
   ],
   "source": [
    "df1=pd.DataFrame(dict(x=X[:,0],y=X[:,1]))\n",
    "fig,ax=plt.subplots(figsize=(8,8))\n",
    "df1.plot(ax=ax,kind='scatter',x='x',y='y')\n",
    "# visualizing how points are scattered"
   ]
  },
  {
   "cell_type": "markdown",
   "id": "b86234e7",
   "metadata": {},
   "source": [
    "#### Apply DBSCAN Algorithm:\n",
    "here we are going to apply DBSCAN algorithm which will find the labels of the\n",
    "data points. the main difference between DBSCAN and Kmeans/Hierarchical means algorithm\n",
    "is the its ability to identify noise/outlier and put them in a seperate cluster\n",
    "to enable us to detect and discard outliers"
   ]
  },
  {
   "cell_type": "code",
   "execution_count": 170,
   "id": "4aaad578",
   "metadata": {
    "scrolled": true
   },
   "outputs": [],
   "source": [
    "dbscan=DBSCAN(eps=3,min_samples=4)\n",
    "model=dbscan.fit(X)\n",
    "clusters=model.labels_"
   ]
  },
  {
   "cell_type": "markdown",
   "id": "c94e4487",
   "metadata": {},
   "source": [
    "#### Parameters:\n",
    "the value of Epsilon and min_samples should be chosen by domain expertise\n",
    "but here we are taking a general rule of choosing min_sample that should be equal to \n",
    "greater than the data set dimensions."
   ]
  },
  {
   "cell_type": "code",
   "execution_count": 171,
   "id": "1d8dec8b",
   "metadata": {
    "scrolled": true
   },
   "outputs": [
    {
     "name": "stdout",
     "output_type": "stream",
     "text": [
      "10\n",
      "{0, 1, 2, 3, 4, 5, 6, 7, 8, -1}\n"
     ]
    }
   ],
   "source": [
    "print(len(set(clusters)))\n",
    "print(set(clusters))"
   ]
  },
  {
   "cell_type": "code",
   "execution_count": 174,
   "id": "5785db24",
   "metadata": {},
   "outputs": [],
   "source": [
    "sample_cores=np.zeros_like(clusters,dtype=bool)\n",
    "sample_cores[dbscan.core_sample_indices_]=True\n",
    "n_clusters=len(set(clusters))- (1 if -1 in clusters else 0)"
   ]
  },
  {
   "cell_type": "code",
   "execution_count": 175,
   "id": "31646f41",
   "metadata": {},
   "outputs": [
    {
     "data": {
      "text/plain": [
       "9"
      ]
     },
     "execution_count": 175,
     "metadata": {},
     "output_type": "execute_result"
    }
   ],
   "source": [
    "n_clusters"
   ]
  },
  {
   "cell_type": "code",
   "execution_count": 176,
   "id": "dabe7eab",
   "metadata": {},
   "outputs": [
    {
     "data": {
      "text/plain": [
       "-0.1908319132560097"
      ]
     },
     "execution_count": 176,
     "metadata": {},
     "output_type": "execute_result"
    }
   ],
   "source": [
    "metrics.silhouette_score(X,clusters)"
   ]
  },
  {
   "cell_type": "code",
   "execution_count": null,
   "id": "5e5fcea4",
   "metadata": {},
   "outputs": [],
   "source": []
  },
  {
   "cell_type": "code",
   "execution_count": null,
   "id": "422b3d82",
   "metadata": {},
   "outputs": [],
   "source": []
  },
  {
   "cell_type": "code",
   "execution_count": null,
   "id": "8126412e",
   "metadata": {},
   "outputs": [],
   "source": []
  }
 ],
 "metadata": {
  "kernelspec": {
   "display_name": "Python 3 (ipykernel)",
   "language": "python",
   "name": "python3"
  },
  "language_info": {
   "codemirror_mode": {
    "name": "ipython",
    "version": 3
   },
   "file_extension": ".py",
   "mimetype": "text/x-python",
   "name": "python",
   "nbconvert_exporter": "python",
   "pygments_lexer": "ipython3",
   "version": "3.9.13"
  }
 },
 "nbformat": 4,
 "nbformat_minor": 5
}
